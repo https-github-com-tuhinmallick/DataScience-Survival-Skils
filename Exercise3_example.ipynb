{
  "nbformat": 4,
  "nbformat_minor": 0,
  "metadata": {
    "colab": {
      "name": "EX3_example.ipynb",
      "provenance": [],
      "collapsed_sections": []
    },
    "kernelspec": {
      "name": "python3",
      "display_name": "Python 3"
    },
    "language_info": {
      "name": "python"
    },
    "widgets": {
      "application/vnd.jupyter.widget-state+json": {
        "3273720025e248c195181ec16a3efa70": {
          "model_module": "@jupyter-widgets/controls",
          "model_name": "VBoxModel",
          "model_module_version": "1.5.0",
          "state": {
            "_view_name": "VBoxView",
            "_dom_classes": [
              "widget-interact"
            ],
            "_model_name": "VBoxModel",
            "_view_module": "@jupyter-widgets/controls",
            "_model_module_version": "1.5.0",
            "_view_count": null,
            "_view_module_version": "1.5.0",
            "box_style": "",
            "layout": "IPY_MODEL_e1a85cd0ae12446a8c8e9743e0021044",
            "_model_module": "@jupyter-widgets/controls",
            "children": [
              "IPY_MODEL_bbc0df297534464584502016e6453624",
              "IPY_MODEL_7337c2a62bff4a5496a13936cb7d75ad"
            ]
          }
        },
        "e1a85cd0ae12446a8c8e9743e0021044": {
          "model_module": "@jupyter-widgets/base",
          "model_name": "LayoutModel",
          "model_module_version": "1.2.0",
          "state": {
            "_view_name": "LayoutView",
            "grid_template_rows": null,
            "right": null,
            "justify_content": null,
            "_view_module": "@jupyter-widgets/base",
            "overflow": null,
            "_model_module_version": "1.2.0",
            "_view_count": null,
            "flex_flow": null,
            "width": null,
            "min_width": null,
            "border": null,
            "align_items": null,
            "bottom": null,
            "_model_module": "@jupyter-widgets/base",
            "top": null,
            "grid_column": null,
            "overflow_y": null,
            "overflow_x": null,
            "grid_auto_flow": null,
            "grid_area": null,
            "grid_template_columns": null,
            "flex": null,
            "_model_name": "LayoutModel",
            "justify_items": null,
            "grid_row": null,
            "max_height": null,
            "align_content": null,
            "visibility": null,
            "align_self": null,
            "height": null,
            "min_height": null,
            "padding": null,
            "grid_auto_rows": null,
            "grid_gap": null,
            "max_width": null,
            "order": null,
            "_view_module_version": "1.2.0",
            "grid_template_areas": null,
            "object_position": null,
            "object_fit": null,
            "grid_auto_columns": null,
            "margin": null,
            "display": null,
            "left": null
          }
        },
        "bbc0df297534464584502016e6453624": {
          "model_module": "@jupyter-widgets/controls",
          "model_name": "IntSliderModel",
          "model_module_version": "1.5.0",
          "state": {
            "_view_name": "IntSliderView",
            "style": "IPY_MODEL_596a3f84bccf497ab7fda8cc0ba6d8af",
            "_dom_classes": [],
            "description": "i",
            "step": 1,
            "_model_name": "IntSliderModel",
            "orientation": "horizontal",
            "max": 19,
            "_view_module": "@jupyter-widgets/controls",
            "_model_module_version": "1.5.0",
            "value": 9,
            "_view_count": null,
            "disabled": false,
            "_view_module_version": "1.5.0",
            "min": 0,
            "continuous_update": true,
            "readout_format": "d",
            "description_tooltip": null,
            "readout": true,
            "_model_module": "@jupyter-widgets/controls",
            "layout": "IPY_MODEL_57663ae7f2e3405daf13c0cef094fcc4"
          }
        },
        "7337c2a62bff4a5496a13936cb7d75ad": {
          "model_module": "@jupyter-widgets/output",
          "model_name": "OutputModel",
          "model_module_version": "1.0.0",
          "state": {
            "_view_name": "OutputView",
            "msg_id": "",
            "_dom_classes": [],
            "_model_name": "OutputModel",
            "outputs": [
              {
                "output_type": "display_data",
                "data": {
                  "image/png": "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\n",
                  "text/plain": "<PIL.Image.Image image mode=RGB size=256x256 at 0x7FD3ADECC850>"
                },
                "metadata": {}
              }
            ],
            "_view_module": "@jupyter-widgets/output",
            "_model_module_version": "1.0.0",
            "_view_count": null,
            "_view_module_version": "1.0.0",
            "layout": "IPY_MODEL_2ea5d39691374831b46bb8ca7bfa463d",
            "_model_module": "@jupyter-widgets/output"
          }
        },
        "596a3f84bccf497ab7fda8cc0ba6d8af": {
          "model_module": "@jupyter-widgets/controls",
          "model_name": "SliderStyleModel",
          "model_module_version": "1.5.0",
          "state": {
            "_view_name": "StyleView",
            "handle_color": null,
            "_model_name": "SliderStyleModel",
            "description_width": "",
            "_view_module": "@jupyter-widgets/base",
            "_model_module_version": "1.5.0",
            "_view_count": null,
            "_view_module_version": "1.2.0",
            "_model_module": "@jupyter-widgets/controls"
          }
        },
        "57663ae7f2e3405daf13c0cef094fcc4": {
          "model_module": "@jupyter-widgets/base",
          "model_name": "LayoutModel",
          "model_module_version": "1.2.0",
          "state": {
            "_view_name": "LayoutView",
            "grid_template_rows": null,
            "right": null,
            "justify_content": null,
            "_view_module": "@jupyter-widgets/base",
            "overflow": null,
            "_model_module_version": "1.2.0",
            "_view_count": null,
            "flex_flow": null,
            "width": null,
            "min_width": null,
            "border": null,
            "align_items": null,
            "bottom": null,
            "_model_module": "@jupyter-widgets/base",
            "top": null,
            "grid_column": null,
            "overflow_y": null,
            "overflow_x": null,
            "grid_auto_flow": null,
            "grid_area": null,
            "grid_template_columns": null,
            "flex": null,
            "_model_name": "LayoutModel",
            "justify_items": null,
            "grid_row": null,
            "max_height": null,
            "align_content": null,
            "visibility": null,
            "align_self": null,
            "height": null,
            "min_height": null,
            "padding": null,
            "grid_auto_rows": null,
            "grid_gap": null,
            "max_width": null,
            "order": null,
            "_view_module_version": "1.2.0",
            "grid_template_areas": null,
            "object_position": null,
            "object_fit": null,
            "grid_auto_columns": null,
            "margin": null,
            "display": null,
            "left": null
          }
        },
        "2ea5d39691374831b46bb8ca7bfa463d": {
          "model_module": "@jupyter-widgets/base",
          "model_name": "LayoutModel",
          "model_module_version": "1.2.0",
          "state": {
            "_view_name": "LayoutView",
            "grid_template_rows": null,
            "right": null,
            "justify_content": null,
            "_view_module": "@jupyter-widgets/base",
            "overflow": null,
            "_model_module_version": "1.2.0",
            "_view_count": null,
            "flex_flow": null,
            "width": null,
            "min_width": null,
            "border": null,
            "align_items": null,
            "bottom": null,
            "_model_module": "@jupyter-widgets/base",
            "top": null,
            "grid_column": null,
            "overflow_y": null,
            "overflow_x": null,
            "grid_auto_flow": null,
            "grid_area": null,
            "grid_template_columns": null,
            "flex": null,
            "_model_name": "LayoutModel",
            "justify_items": null,
            "grid_row": null,
            "max_height": null,
            "align_content": null,
            "visibility": null,
            "align_self": null,
            "height": null,
            "min_height": null,
            "padding": null,
            "grid_auto_rows": null,
            "grid_gap": null,
            "max_width": null,
            "order": null,
            "_view_module_version": "1.2.0",
            "grid_template_areas": null,
            "object_position": null,
            "object_fit": null,
            "grid_auto_columns": null,
            "margin": null,
            "display": null,
            "left": null
          }
        }
      }
    }
  },
  "cells": [
    {
      "cell_type": "code",
      "metadata": {
        "id": "ZBrQjYDFvcp1"
      },
      "source": [
        "from ipywidgets import interact, fixed\n",
        "from PIL import Image"
      ],
      "execution_count": 1,
      "outputs": []
    },
    {
      "cell_type": "markdown",
      "metadata": {
        "id": "-_AF-vXBzpdP"
      },
      "source": [
        "This is an example of the solution: "
      ]
    },
    {
      "cell_type": "code",
      "metadata": {
        "id": "DvCUtYIKveUp"
      },
      "source": [
        "def imshow(X, resize=None):\n",
        "  \"\"\"\n",
        "  @interact allow us to work with widgets, as its name states, in an interactive way\n",
        "  we take an image from a large array and display it. One can go then through the array using \n",
        "  a slider. The option of resizing the image is also avilable.\n",
        "  \"\"\"\n",
        "  @interact\n",
        "  def _imshow(i:(0, len(X)-1), resize=fixed(resize)):\n",
        "      im = Image.fromarray(X[i])\n",
        "      if resize:\n",
        "          im = im.resize(resize)\n",
        "      return im\n"
      ],
      "execution_count": 2,
      "outputs": []
    },
    {
      "cell_type": "code",
      "metadata": {
        "id": "r-yX46-RvsU8"
      },
      "source": [
        "import numpy as np\n",
        "a_small_array = np.random.randint(0, 255, (20, 2,2,3)).astype(np.uint8)"
      ],
      "execution_count": 3,
      "outputs": []
    },
    {
      "cell_type": "code",
      "metadata": {
        "colab": {
          "base_uri": "https://localhost:8080/",
          "height": 305,
          "referenced_widgets": [
            "3273720025e248c195181ec16a3efa70",
            "e1a85cd0ae12446a8c8e9743e0021044",
            "bbc0df297534464584502016e6453624",
            "7337c2a62bff4a5496a13936cb7d75ad",
            "596a3f84bccf497ab7fda8cc0ba6d8af",
            "57663ae7f2e3405daf13c0cef094fcc4",
            "2ea5d39691374831b46bb8ca7bfa463d"
          ]
        },
        "id": "OjeinhEHzlCx",
        "outputId": "dd7b02c7-3db8-4b97-9778-aa3e1ecd38a7"
      },
      "source": [
        "imshow(a_small_array, (256, 256))"
      ],
      "execution_count": 4,
      "outputs": [
        {
          "output_type": "display_data",
          "data": {
            "application/vnd.jupyter.widget-view+json": {
              "model_id": "3273720025e248c195181ec16a3efa70",
              "version_minor": 0,
              "version_major": 2
            },
            "text/plain": [
              "interactive(children=(IntSlider(value=9, description='i', max=19), Output()), _dom_classes=('widget-interact',…"
            ]
          },
          "metadata": {}
        }
      ]
    }
  ]
}