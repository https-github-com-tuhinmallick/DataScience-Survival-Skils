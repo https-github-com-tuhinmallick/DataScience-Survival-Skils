{
  "nbformat": 4,
  "nbformat_minor": 0,
  "metadata": {
    "colab": {
      "name": "Exercise_12.ipynb",
      "provenance": [],
      "collapsed_sections": []
    },
    "kernelspec": {
      "name": "python3",
      "display_name": "Python 3"
    },
    "language_info": {
      "name": "python"
    }
  },
  "cells": [
    {
      "cell_type": "code",
      "execution_count": 1,
      "metadata": {
        "colab": {
          "base_uri": "https://localhost:8080/"
        },
        "id": "i1SEP92jxi1Q",
        "outputId": "9b2f538e-8603-4453-ec9b-61c04c9875bc"
      },
      "outputs": [
        {
          "output_type": "stream",
          "name": "stdout",
          "text": [
            "Collecting jupyter_dash\n",
            "  Downloading jupyter_dash-0.4.0-py3-none-any.whl (20 kB)\n",
            "Requirement already satisfied: ipykernel in /usr/local/lib/python3.7/dist-packages (from jupyter_dash) (4.10.1)\n",
            "Requirement already satisfied: ipython in /usr/local/lib/python3.7/dist-packages (from jupyter_dash) (5.5.0)\n",
            "Collecting dash\n",
            "  Downloading dash-2.1.0-py3-none-any.whl (7.4 MB)\n",
            "\u001b[K     |████████████████████████████████| 7.4 MB 35.4 MB/s \n",
            "\u001b[?25hCollecting retrying\n",
            "  Downloading retrying-1.3.3.tar.gz (10 kB)\n",
            "Collecting ansi2html\n",
            "  Downloading ansi2html-1.7.0-py3-none-any.whl (15 kB)\n",
            "Requirement already satisfied: flask in /usr/local/lib/python3.7/dist-packages (from jupyter_dash) (1.1.4)\n",
            "Requirement already satisfied: requests in /usr/local/lib/python3.7/dist-packages (from jupyter_dash) (2.23.0)\n",
            "Requirement already satisfied: importlib-metadata in /usr/local/lib/python3.7/dist-packages (from ansi2html->jupyter_dash) (4.10.1)\n",
            "Collecting flask-compress\n",
            "  Downloading Flask_Compress-1.10.1-py3-none-any.whl (7.9 kB)\n",
            "Collecting dash-core-components==2.0.0\n",
            "  Downloading dash_core_components-2.0.0.tar.gz (3.4 kB)\n",
            "Collecting dash-html-components==2.0.0\n",
            "  Downloading dash_html_components-2.0.0.tar.gz (3.8 kB)\n",
            "Requirement already satisfied: plotly>=5.0.0 in /usr/local/lib/python3.7/dist-packages (from dash->jupyter_dash) (5.5.0)\n",
            "Collecting dash-table==5.0.0\n",
            "  Downloading dash_table-5.0.0.tar.gz (3.4 kB)\n",
            "Requirement already satisfied: itsdangerous<2.0,>=0.24 in /usr/local/lib/python3.7/dist-packages (from flask->jupyter_dash) (1.1.0)\n",
            "Requirement already satisfied: click<8.0,>=5.1 in /usr/local/lib/python3.7/dist-packages (from flask->jupyter_dash) (7.1.2)\n",
            "Requirement already satisfied: Jinja2<3.0,>=2.10.1 in /usr/local/lib/python3.7/dist-packages (from flask->jupyter_dash) (2.11.3)\n",
            "Requirement already satisfied: Werkzeug<2.0,>=0.15 in /usr/local/lib/python3.7/dist-packages (from flask->jupyter_dash) (1.0.1)\n",
            "Requirement already satisfied: MarkupSafe>=0.23 in /usr/local/lib/python3.7/dist-packages (from Jinja2<3.0,>=2.10.1->flask->jupyter_dash) (2.0.1)\n",
            "Requirement already satisfied: six in /usr/local/lib/python3.7/dist-packages (from plotly>=5.0.0->dash->jupyter_dash) (1.15.0)\n",
            "Requirement already satisfied: tenacity>=6.2.0 in /usr/local/lib/python3.7/dist-packages (from plotly>=5.0.0->dash->jupyter_dash) (8.0.1)\n",
            "Collecting brotli\n",
            "  Downloading Brotli-1.0.9-cp37-cp37m-manylinux1_x86_64.whl (357 kB)\n",
            "\u001b[K     |████████████████████████████████| 357 kB 45.6 MB/s \n",
            "\u001b[?25hRequirement already satisfied: typing-extensions>=3.6.4 in /usr/local/lib/python3.7/dist-packages (from importlib-metadata->ansi2html->jupyter_dash) (3.10.0.2)\n",
            "Requirement already satisfied: zipp>=0.5 in /usr/local/lib/python3.7/dist-packages (from importlib-metadata->ansi2html->jupyter_dash) (3.7.0)\n",
            "Requirement already satisfied: traitlets>=4.1.0 in /usr/local/lib/python3.7/dist-packages (from ipykernel->jupyter_dash) (5.1.1)\n",
            "Requirement already satisfied: jupyter-client in /usr/local/lib/python3.7/dist-packages (from ipykernel->jupyter_dash) (5.3.5)\n",
            "Requirement already satisfied: tornado>=4.0 in /usr/local/lib/python3.7/dist-packages (from ipykernel->jupyter_dash) (5.1.1)\n",
            "Requirement already satisfied: pexpect in /usr/local/lib/python3.7/dist-packages (from ipython->jupyter_dash) (4.8.0)\n",
            "Requirement already satisfied: decorator in /usr/local/lib/python3.7/dist-packages (from ipython->jupyter_dash) (4.4.2)\n",
            "Requirement already satisfied: simplegeneric>0.8 in /usr/local/lib/python3.7/dist-packages (from ipython->jupyter_dash) (0.8.1)\n",
            "Requirement already satisfied: pickleshare in /usr/local/lib/python3.7/dist-packages (from ipython->jupyter_dash) (0.7.5)\n",
            "Requirement already satisfied: prompt-toolkit<2.0.0,>=1.0.4 in /usr/local/lib/python3.7/dist-packages (from ipython->jupyter_dash) (1.0.18)\n",
            "Requirement already satisfied: pygments in /usr/local/lib/python3.7/dist-packages (from ipython->jupyter_dash) (2.6.1)\n",
            "Requirement already satisfied: setuptools>=18.5 in /usr/local/lib/python3.7/dist-packages (from ipython->jupyter_dash) (57.4.0)\n",
            "Requirement already satisfied: wcwidth in /usr/local/lib/python3.7/dist-packages (from prompt-toolkit<2.0.0,>=1.0.4->ipython->jupyter_dash) (0.2.5)\n",
            "Requirement already satisfied: python-dateutil>=2.1 in /usr/local/lib/python3.7/dist-packages (from jupyter-client->ipykernel->jupyter_dash) (2.8.2)\n",
            "Requirement already satisfied: jupyter-core>=4.6.0 in /usr/local/lib/python3.7/dist-packages (from jupyter-client->ipykernel->jupyter_dash) (4.9.1)\n",
            "Requirement already satisfied: pyzmq>=13 in /usr/local/lib/python3.7/dist-packages (from jupyter-client->ipykernel->jupyter_dash) (22.3.0)\n",
            "Requirement already satisfied: ptyprocess>=0.5 in /usr/local/lib/python3.7/dist-packages (from pexpect->ipython->jupyter_dash) (0.7.0)\n",
            "Requirement already satisfied: certifi>=2017.4.17 in /usr/local/lib/python3.7/dist-packages (from requests->jupyter_dash) (2021.10.8)\n",
            "Requirement already satisfied: idna<3,>=2.5 in /usr/local/lib/python3.7/dist-packages (from requests->jupyter_dash) (2.10)\n",
            "Requirement already satisfied: urllib3!=1.25.0,!=1.25.1,<1.26,>=1.21.1 in /usr/local/lib/python3.7/dist-packages (from requests->jupyter_dash) (1.24.3)\n",
            "Requirement already satisfied: chardet<4,>=3.0.2 in /usr/local/lib/python3.7/dist-packages (from requests->jupyter_dash) (3.0.4)\n",
            "Building wheels for collected packages: dash-core-components, dash-html-components, dash-table, retrying\n",
            "  Building wheel for dash-core-components (setup.py) ... \u001b[?25l\u001b[?25hdone\n",
            "  Created wheel for dash-core-components: filename=dash_core_components-2.0.0-py3-none-any.whl size=3822 sha256=4cf2e8a8afac52d92552f8a646ba85b1467bf66ccdc8158ee0c5cd5452aebd77\n",
            "  Stored in directory: /root/.cache/pip/wheels/00/f9/c7/1a6437d794ed753ea9bc9079e761d4fc803a1f1f5d3697b9ec\n",
            "  Building wheel for dash-html-components (setup.py) ... \u001b[?25l\u001b[?25hdone\n",
            "  Created wheel for dash-html-components: filename=dash_html_components-2.0.0-py3-none-any.whl size=4090 sha256=0199c410b71e25517bc39c9b83f473a39ddc06177fd11492c80a31d8900d28e2\n",
            "  Stored in directory: /root/.cache/pip/wheels/ec/6b/81/05aceabd8b27f724e2c96784016287cc1bfbc349ebfda451de\n",
            "  Building wheel for dash-table (setup.py) ... \u001b[?25l\u001b[?25hdone\n",
            "  Created wheel for dash-table: filename=dash_table-5.0.0-py3-none-any.whl size=3912 sha256=c892279da58bb52e51f6e4343fd4fae694fbccc7621a0fc7ac4b86232b4886e3\n",
            "  Stored in directory: /root/.cache/pip/wheels/85/5d/4e/7c276b57992951dbe770bf5caad6448d0539c510663aefd2e2\n",
            "  Building wheel for retrying (setup.py) ... \u001b[?25l\u001b[?25hdone\n",
            "  Created wheel for retrying: filename=retrying-1.3.3-py3-none-any.whl size=11447 sha256=0836855e019c61ab13bd6de005282c7ada15012422111f68b2de145c095815a9\n",
            "  Stored in directory: /root/.cache/pip/wheels/f9/8d/8d/f6af3f7f9eea3553bc2fe6d53e4b287dad18b06a861ac56ddf\n",
            "Successfully built dash-core-components dash-html-components dash-table retrying\n",
            "Installing collected packages: brotli, flask-compress, dash-table, dash-html-components, dash-core-components, retrying, dash, ansi2html, jupyter-dash\n",
            "Successfully installed ansi2html-1.7.0 brotli-1.0.9 dash-2.1.0 dash-core-components-2.0.0 dash-html-components-2.0.0 dash-table-5.0.0 flask-compress-1.10.1 jupyter-dash-0.4.0 retrying-1.3.3\n"
          ]
        }
      ],
      "source": [
        "!pip install jupyter_dash "
      ]
    },
    {
      "cell_type": "code",
      "source": [
        "! pip install -q jupyter_dash==0.3.0\n",
        "! pip install -q dash==1.19.0"
      ],
      "metadata": {
        "colab": {
          "base_uri": "https://localhost:8080/"
        },
        "id": "qxmkFFS-KeUU",
        "outputId": "bb1ef29f-b4f5-4d4f-ac6e-0aa5d4ce0ac8"
      },
      "execution_count": 2,
      "outputs": [
        {
          "output_type": "stream",
          "name": "stdout",
          "text": [
            "\u001b[K     |████████████████████████████████| 49 kB 3.0 MB/s \n",
            "\u001b[K     |████████████████████████████████| 75 kB 3.2 MB/s \n",
            "\u001b[K     |████████████████████████████████| 1.0 MB 42.6 MB/s \n",
            "\u001b[K     |████████████████████████████████| 3.5 MB 42.5 MB/s \n",
            "\u001b[K     |████████████████████████████████| 188 kB 56.6 MB/s \n",
            "\u001b[K     |████████████████████████████████| 1.8 MB 46.0 MB/s \n",
            "\u001b[?25h  Building wheel for dash (setup.py) ... \u001b[?25l\u001b[?25hdone\n",
            "  Building wheel for dash-core-components (setup.py) ... \u001b[?25l\u001b[?25hdone\n",
            "  Building wheel for dash-html-components (setup.py) ... \u001b[?25l\u001b[?25hdone\n",
            "  Building wheel for dash-renderer (setup.py) ... \u001b[?25l\u001b[?25hdone\n",
            "  Building wheel for dash-table (setup.py) ... \u001b[?25l\u001b[?25hdone\n"
          ]
        }
      ]
    },
    {
      "cell_type": "code",
      "source": [
        "import pandas as pd\n",
        "import numpy as np\n",
        "import plotly.graph_objects as go\n",
        "from jupyter_dash import JupyterDash\n",
        "import dash_core_components as dcc\n",
        "import dash_html_components as html\n",
        "from dash.dependencies import Input, Output"
      ],
      "metadata": {
        "id": "IEgAqLZmx2iN"
      },
      "execution_count": 3,
      "outputs": []
    },
    {
      "cell_type": "markdown",
      "source": [
        "1. To Do: use your data base and function to calculate the seven day average from previous exercise."
      ],
      "metadata": {
        "id": "D0VIi_qqKSUx"
      }
    },
    {
      "cell_type": "markdown",
      "source": [
        "Creating a Dash Layout"
      ],
      "metadata": {
        "id": "mh3q-0cyKlyx"
      }
    },
    {
      "cell_type": "code",
      "source": [
        "app = JupyterDash(__name__) ## Jupyter Dash app"
      ],
      "metadata": {
        "id": "HGn31_SL0AXR"
      },
      "execution_count": 4,
      "outputs": []
    },
    {
      "cell_type": "markdown",
      "source": [
        "2. To Do: Create a function that returns a bar plot using graph_objects. "
      ],
      "metadata": {
        "id": "EzuCqcs2AQdS"
      }
    },
    {
      "cell_type": "code",
      "source": [
        "#TODO\n",
        "def movingaverage(interval, window_size=7):\n",
        "    window = np.ones(int(window_size))/float(window_size)\n",
        "    return np.convolve(interval, window, 'same')"
      ],
      "metadata": {
        "id": "00ynIWPz0LTz"
      },
      "execution_count": 5,
      "outputs": []
    },
    {
      "cell_type": "code",
      "source": [
        "def bar(data, labels):\n",
        "  return go.Bar(name=\"Raw data\",x=labels, y=data)"
      ],
      "metadata": {
        "id": "jU9xuHT-K_nN"
      },
      "execution_count": 10,
      "outputs": []
    },
    {
      "cell_type": "markdown",
      "source": [
        "3. To Do: Create Create a function that returns a line plot using graph_objects."
      ],
      "metadata": {
        "id": "0yk-FY0ZAR8a"
      }
    },
    {
      "cell_type": "code",
      "source": [
        "#TODO\n",
        "def line(data,labels):\n",
        "  return go.Scatter(name=\"7 Day moving avg\",x=labels, y=data)"
      ],
      "metadata": {
        "id": "3WJlUYp755i9"
      },
      "execution_count": 11,
      "outputs": []
    },
    {
      "cell_type": "markdown",
      "source": [
        "We can create a Figure that contains the plots:"
      ],
      "metadata": {
        "id": "o7Ab9XMZN2UC"
      }
    },
    {
      "cell_type": "code",
      "source": [
        " # Function that creates a Plotly Figure. \n",
        " # The Figure displays the plots contained in 'input'.\n",
        " # The figure will have a width of 'w' and a height of 'h'\n",
        "def create_fig(input, w = 900, h = 600 ):\n",
        "  fig = go.Figure(data = input).update_layout(\n",
        "                  width=w,  # setting  width\n",
        "                  height=h, # setting  height   \n",
        "                  updatemenus = list([dict(\n",
        "                                type=\"buttons\", # Buttons to activate/deactivate plots\n",
        "                                active=0,       # First button will be active by default                 \n",
        "                                buttons=list([\n",
        "                                            # Button 1\n",
        "                                            dict(label = 'Raw daily cases', # name of the button\n",
        "                                                    method = 'update',        # method used to refresh the image\n",
        "                                                    args = [{'visible': [True, False]}, # which plot will be available (only first) \n",
        "                                                            {'title': 'Covid-19 Cases in Germany'}]), # name of the plot\n",
        "                                            # Button 2\n",
        "                                            dict(label = '7 Day average', # name of the button\n",
        "                                                    method = 'update',\n",
        "                                                    args = [{'visible': [False, True]},\n",
        "                                                            {'title': 'Covid-19 Cases in Germany'}]), \n",
        "                                            # Button 3\n",
        "                                            dict(label = 'Both',\n",
        "                                                    method = 'update',\n",
        "                                                    args = [{'visible': [True, True]},\n",
        "                                                            {'title': 'Covid-19 Cases in Germany'}])\n",
        "                            ]),\n",
        "                        )\n",
        "                    ])\n",
        "                )\n",
        "  return fig\n"
      ],
      "metadata": {
        "id": "9idUeGBhQeH6"
      },
      "execution_count": 12,
      "outputs": []
    },
    {
      "cell_type": "code",
      "source": [
        "data = pd.read_csv('https://data.covid19bharat.org/csv/latest/case_time_series.csv')\n",
        "date = np.array(data['Date_YMD'])\n",
        "dailyCases = data['Daily Confirmed']\n",
        "totalCases = data['Total Confirmed']\n",
        "totalRecovered = data['Total Recovered']\n",
        "totalDeceased = data['Total Deceased']\n",
        "i= np.where(date == '2021-01-01')[0][0]\n",
        "date_New = [d.date() for d in pd.to_datetime(date[i :])]\n",
        "dailyCasesNew = dailyCases[i : -15]\n",
        "dailyCasesNew = dailyCasesNew.astype(np.float)\n",
        "weekly_average = movingaverage(dailyCasesNew)\n",
        "totalCasesNew = totalCases[i :-15]\n",
        "totalCasesNew = totalCasesNew.astype(np.float)\n",
        "totalRecoveredNew = totalRecovered[i :-15]\n",
        "totalRecoveredNew = totalRecoveredNew.astype(np.float)\n",
        "totalDeceasedNew = totalDeceased[i :-15]\n",
        "totalDeceasedNew = totalDeceasedNew.astype(np.float)"
      ],
      "metadata": {
        "id": "0Ci5jcFXKyBD"
      },
      "execution_count": 23,
      "outputs": []
    },
    {
      "cell_type": "code",
      "source": [
        "input = [bar(dailyCasesNew,date_New), line(weekly_average,date_New)] #bar plot, line plot\n",
        "\n",
        "fig = create_fig(input)"
      ],
      "metadata": {
        "id": "XBl09r3QTmmy"
      },
      "execution_count": 28,
      "outputs": []
    },
    {
      "cell_type": "markdown",
      "source": [
        "4. To Do: Create a Dropdown that will update the data of your plots. Name it ``'dd'``"
      ],
      "metadata": {
        "id": "yQcReKNJLffF"
      }
    },
    {
      "cell_type": "code",
      "source": [
        "# TODO\n",
        "# dd = dropdown\n",
        "dd = dcc.Dropdown(id = 'info',\n",
        "   options=[\n",
        "        {'label': 'Daily cases', 'value': 'Daily Confirmed'},\n",
        "       {'label': 'Total Cases', 'value': 'Total Confirmed'},\n",
        "       {'label': 'Total Recovered', 'value': 'Total Recovered'},\n",
        "       {'label': 'Total Deceased', 'value': 'Total Deceased'},\n",
        "   ]\n",
        ")\n"
      ],
      "metadata": {
        "id": "uzYFuQg1OQJX"
      },
      "execution_count": 29,
      "outputs": []
    },
    {
      "cell_type": "markdown",
      "source": [
        "We create the final layout with a the ``Content Division`` element of the html:"
      ],
      "metadata": {
        "id": "0V2jB96uL7o_"
      }
    },
    {
      "cell_type": "code",
      "source": [
        "app.layout = html.Div([\n",
        "    html.H1(\"Covid cases in ??? \"),   # Title\n",
        "    dcc.Graph(id='graph', figure = fig),  # Graph that contains the figure (Look at the ID!!) \n",
        "    dd, # Dropdown under the figure\n",
        "])"
      ],
      "metadata": {
        "id": "UvEaXswQa4JT"
      },
      "execution_count": 30,
      "outputs": []
    },
    {
      "cell_type": "markdown",
      "source": [
        "Working with callbacks"
      ],
      "metadata": {
        "id": "LdQAeN7kbWc2"
      }
    },
    {
      "cell_type": "markdown",
      "source": [
        "5. To Do: Create the ``callback`` to update your plot. Calcualte again the seven day average and make the plots using the new entry. Then, feed the graph with your new figure."
      ],
      "metadata": {
        "id": "0f5zEYi_EDdu"
      }
    },
    {
      "cell_type": "code",
      "source": [
        "# TODO \n",
        "@app.callback(\n",
        "    Output(component_id='graph', component_property='figure'),\n",
        "    Input(component_id='info', component_property='value')\n",
        ")\n",
        "\n",
        "def update_graph(data_required):\n",
        "  date = np.array(data['Date_YMD'])\n",
        "  newData = data[data_required]\n",
        "  i= np.where(date == '2021-01-01')[0][0]\n",
        "  dateNew = [d.date() for d in pd.to_datetime(date[i :])]\n",
        "\n",
        "  totalNew = newData[i :-15].astype(np.float)\n",
        "\n",
        "  avgnew = movingaverage(totalNew)\n",
        "\n",
        "  bar = bar(totalNew,dateNew)\n",
        "  line = line(avgnew,dateNew)\n",
        "  in_val = [bar, line] #bar plot, line plot\n",
        "  fig = create_fig(in_val)\n",
        "  fig.update_layout(transition_duration = 500)\n",
        "  \n",
        "  return fig"
      ],
      "metadata": {
        "id": "r16CcRTxbUk3"
      },
      "execution_count": 31,
      "outputs": []
    },
    {
      "cell_type": "markdown",
      "source": [
        "Finally, we run the app using the port 8090. You can either follow the link, or use the ``inline mode`` to display the app on a cell of Jupyter Notebook/ Google Colab."
      ],
      "metadata": {
        "id": "Bbf9uOXTMBMq"
      }
    },
    {
      "cell_type": "code",
      "source": [
        "if __name__ == '__main__':\n",
        "  app.run_server(port = 8090, dev_tools_ui=True, #mode='inline', #debug=True,\n",
        "              dev_tools_hot_reload =True, threaded=True)"
      ],
      "metadata": {
        "colab": {
          "base_uri": "https://localhost:8080/",
          "height": 52
        },
        "id": "XWkflsAtcqPk",
        "outputId": "59b189e6-08f7-4489-ae6e-1d78c7949f0e"
      },
      "execution_count": 32,
      "outputs": [
        {
          "output_type": "stream",
          "name": "stdout",
          "text": [
            "Dash app running on:\n"
          ]
        },
        {
          "output_type": "display_data",
          "data": {
            "application/javascript": [
              "(async (port, path, text, element) => {\n",
              "    if (!google.colab.kernel.accessAllowed) {\n",
              "      return;\n",
              "    }\n",
              "    element.appendChild(document.createTextNode(''));\n",
              "    const url = await google.colab.kernel.proxyPort(port);\n",
              "    const anchor = document.createElement('a');\n",
              "    anchor.href = new URL(path, url).toString();\n",
              "    anchor.target = '_blank';\n",
              "    anchor.setAttribute('data-href', url + path);\n",
              "    anchor.textContent = text;\n",
              "    element.appendChild(anchor);\n",
              "  })(8090, \"/\", \"http://127.0.0.1:8090/\", window.element)"
            ],
            "text/plain": [
              "<IPython.core.display.Javascript object>"
            ]
          },
          "metadata": {}
        }
      ]
    }
  ]
}